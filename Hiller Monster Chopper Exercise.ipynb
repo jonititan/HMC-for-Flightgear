{
 "cells": [
  {
   "cell_type": "markdown",
   "metadata": {},
   "source": [
    "<div class=\"clearfix\" style=\"padding: 10px; padding-left: 0px\">\n",
    "<img src=\"https://raw.githubusercontent.com/jupyter/nature-demo/master/images/jupyter-logo.png\" width=\"150px\" style=\"display: inline-block; margin-top: 5px;\">\n",
    "<a href=\"http://bit.ly/tmpnbdevrax\"><img src=\"https://cloud.githubusercontent.com/assets/836375/4916141/2732892e-64d6-11e4-980f-11afcf03ca31.png\" width=\"150px\" class=\"pull-right\" style=\"display: inline-block; margin: 0px;\"></a>\n",
    "</div>\n",
    "\n",
    "## Welcome to the Temporary Notebook (tmpnb) service!\n",
    "\n",
    "This Notebook Server was **launched just for you**. It's a temporary way for you to try out a recent development version of the IPython/Jupyter notebook.\n",
    "\n",
    "<div class=\"alert alert-warning\" role=\"alert\" style=\"margin: 10px\">\n",
    "<p>**WARNING**</p>\n",
    "\n",
    "<p>Don't rely on this server for anything you want to last - your server will be *deleted after 10 minutes of inactivity*.</p>\n",
    "</div>\n",
    "\n",
    "Your server is hosted thanks to [Rackspace](http://bit.ly/tmpnbdevrax), on their on-demand bare metal servers, [OnMetal](http://bit.ly/onmetal).\n"
   ]
  },
  {
   "cell_type": "markdown",
   "metadata": {},
   "source": [
    "### Run some Python code!\n",
    "\n",
    "To run the code below:\n",
    "\n",
    "1. Click on the cell to select it.\n",
    "2. Press `SHIFT+ENTER` on your keyboard or press the play button (<button class='fa fa-play icon-play btn btn-xs btn-default'></button>) in the toolbar above.\n",
    "\n",
    "A full tutorial for using the notebook interface is available [here](ipython_examples/Notebook/Index.ipynb)."
   ]
  },
  {
   "cell_type": "code",
   "execution_count": null,
   "metadata": {},
   "outputs": [],
   "source": [
    "%matplotlib notebook\n",
    "\n",
    "import pandas as pd\n",
    "import numpy as np\n",
    "import matplotlib\n",
    "\n",
    "from matplotlib import pyplot as plt\n",
    "import seaborn as sns\n",
    "\n",
    "ts = pd.Series(np.random.randn(1000), index=pd.date_range('1/1/2000', periods=1000))\n",
    "ts = ts.cumsum()\n",
    "\n",
    "df = pd.DataFrame(np.random.randn(1000, 4), index=ts.index,\n",
    "                  columns=['A', 'B', 'C', 'D'])\n",
    "df = df.cumsum()\n",
    "df.plot(); plt.legend(loc='best')"
   ]
  },
  {
   "cell_type": "code",
   "execution_count": 26,
   "metadata": {},
   "outputs": [],
   "source": [
    "from IPython.display import Math as latexmathcall"
   ]
  },
  {
   "cell_type": "markdown",
   "metadata": {},
   "source": [
    "Feel free to open new cells using the plus button (<button class='fa fa-plus icon-plus btn btn-xs btn-default'></button>), or hitting shift-enter while this cell is selected.\n",
    "\n",
    "Behind the scenes, the software that powers this is [tmpnb](https://github.com/jupyter/tmpnb), a  Tornado application that spawns [pre-built Docker containers](https://github.com/ipython/docker-notebook) and then uses the [jupyter/configurable-http-proxy](https://github.com/jupyter/configurable-http-proxy) to put your notebook server on a unique path."
   ]
  },
  {
   "cell_type": "markdown",
   "metadata": {},
   "source": [
    "* 6 Tip mounted Turbojets + 1 turboshaft in tail to power tail rotor\n",
    "* 3 rotors with diameter of 120m\n",
    "* Empty weight 200,000kg\n",
    "* Gross weight 453,000kg\n",
    "* 60 rpm (according to Jay Spensers book Vertical Challenge. The Hiller Aircraft Story from Jay P. Spenser. ISBN 0-295-97203-3 and also the Air Tug video)\n",
    "* Circumference = 383.02m\n",
    "so tips are 383m/s\n",
    "sea level speed of sound is 344 m/s\n",
    "Tips are supersonic..."
   ]
  },
  {
   "cell_type": "markdown",
   "metadata": {},
   "source": [
    "$$ \n",
    "Takeoff\\; Gross\\; Weight = W_0 \\\\\n",
    "Blade\\; Position(Azimuth\\; Angle)\\; = \\psi \\\\ \n",
    "Rotor\\; Tip\\; Speed\\; = V_{tip}\\\\\n",
    "Freestream\\; Air\\; Speed\\; = V_{\\infty}\\\\\n",
    "Rotor\\; Rotation\\; Frequency\\; = \\Omega\\\\\n",
    "Rotor\\; Radius\\; = R\\\\\n",
    "Rotor\\; Thrust\\; = T\\\\\n",
    "Rotor\\; Thrust\\; Coefficient\\; = C_T\\\\\n",
    "Rotor\\; Disk\\; Area\\; = A\\\\\n",
    "Air\\; Density\\; = \\rho\\\\\n",
    "$$"
   ]
  },
  {
   "cell_type": "code",
   "execution_count": 64,
   "metadata": {},
   "outputs": [],
   "source": [
    "import sympy\n",
    "psi = sympy.Symbol('\\psi')\n",
    "V_tip = sympy.Symbol('V_{tip}')\n",
    "V_oo = sympy.Symbol('V_{\\infty}')\n",
    "omega = sympy.Symbol('\\Omega')\n",
    "C_T = sympy.Symbol('C_T') \n",
    "R = sympy.Symbol('R')\n",
    "P = sympy.Symbol('P')\n",
    "p = sympy.Symbol(' \\rho ')\n",
    "A = sympy.Symbol('A')\n",
    "T = sympy.Symbol('T')\n",
    "V_tip = omega*R + V_oo*sin(psi)\n",
    "A = sympy.pi * R **2\n",
    "C_T = T/(p*A*V_tip**2)"
   ]
  },
  {
   "cell_type": "code",
   "execution_count": 65,
   "metadata": {},
   "outputs": [
    {
     "data": {
      "text/latex": [
       "$$V_{tip} = R \\Omega + V_{\\infty} \\sin{\\left (\\psi \\right )}$$"
      ],
      "text/plain": [
       "<IPython.core.display.Math object>"
      ]
     },
     "execution_count": 65,
     "metadata": {},
     "output_type": "execute_result"
    }
   ],
   "source": [
    "latexmathcall(r'V_{tip} = ' +sympy.latex(V_tip))"
   ]
  },
  {
   "cell_type": "code",
   "execution_count": 67,
   "metadata": {},
   "outputs": [
    {
     "data": {
      "text/latex": [
       "$$A = \\pi R^{2}$$"
      ],
      "text/plain": [
       "<IPython.core.display.Math object>"
      ]
     },
     "execution_count": 67,
     "metadata": {},
     "output_type": "execute_result"
    }
   ],
   "source": [
    "latexmathcall(r'A = ' +sympy.latex(A))"
   ]
  },
  {
   "cell_type": "code",
   "execution_count": 70,
   "metadata": {},
   "outputs": [
    {
     "data": {
      "text/latex": [
       "$$C_T = \\frac{T}{\\pi  \r",
       "ho  R^{2} \\left(R \\Omega + V_{\\infty} \\sin{\\left (\\psi \\right )}\\right)^{2}}$$"
      ],
      "text/plain": [
       "<IPython.core.display.Math object>"
      ]
     },
     "execution_count": 70,
     "metadata": {},
     "output_type": "execute_result"
    }
   ],
   "source": [
    "latexmathcall(r'C_T = ' +sympy.latex(C_T))"
   ]
  },
  {
   "cell_type": "code",
   "execution_count": null,
   "metadata": {},
   "outputs": [],
   "source": []
  }
 ],
 "metadata": {
  "kernelspec": {
   "display_name": "Python 3",
   "language": "python",
   "name": "python3"
  },
  "language_info": {
   "codemirror_mode": {
    "name": "ipython",
    "version": 3
   },
   "file_extension": ".py",
   "mimetype": "text/x-python",
   "name": "python",
   "nbconvert_exporter": "python",
   "pygments_lexer": "ipython3",
   "version": "3.6.3"
  }
 },
 "nbformat": 4,
 "nbformat_minor": 1
}
